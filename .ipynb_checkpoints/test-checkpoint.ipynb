{
 "cells": [
  {
   "cell_type": "code",
   "execution_count": 1,
   "metadata": {
    "collapsed": true
   },
   "outputs": [],
   "source": [
    "import os\n",
    "import pandas as pd\n",
    "import numpy as np\n",
    "\n",
    "save_path = '/home/alexandros/Desktop/DELETEME/output'\n",
    "path = '/home/alexandros/Desktop/DELETEME/GraphDBSUT-MicroNonTopologicalExperiment'\n",
    "find_files = 'long'\n",
    "\n",
    "files = [infile for infile in os.listdir(path) if (os.path.isfile(os.path.join(path,infile)) and find_files in infile)]    \n",
    "\n",
    "df = pd.DataFrame(columns=['A/A','Query','Cold/Warm','Short/Long','Results','Execution','Full Scan', 'Total Duration (nsecs)'])\n",
    "df['A/A'] = list(range(1,len(files)+1))\n",
    "df['Short/Long'] = [find_files]*len(files)\n",
    "\n",
    "file_name_list = []\n",
    "for file_name in files:\n",
    "    file_name = file_name[3:]\n",
    "    file_name = file_name.replace('-long','')\n",
    "    file_name_list.append(file_name)\n",
    "    \n",
    "file_name_list.sort()\n",
    "\n",
    "lines = []\n",
    "for file_name in file_name_list:\n",
    "    for file in files:\n",
    "        if file_name in file: \n",
    "            with open(path+'/'+file) as f:\n",
    "                lines.append(f.read().splitlines())\n",
    "\n",
    "lst_res = [] \n",
    "lst_exec = []\n",
    "lst_scan = []\n",
    "lst_dur = []\n",
    "for line in lines:\n",
    "    lst_res.append((line[0].split(' '))[0])\n",
    "    lst_exec.append((line[0].split(' '))[1])\n",
    "    lst_scan.append((line[0].split(' '))[2])\n",
    "    lst_dur.append((line[0].split(' '))[3])\n",
    "\n",
    "lst_names = []\n",
    "lst_cold_warm = []\n",
    "for file_name in file_name_list:\n",
    "    if ('cold' in file_name) | ('warm' in file_name):\n",
    "        name, cold_warm = file_name.split('-')\n",
    "        lst_names.append(name)\n",
    "        lst_cold_warm.append(cold_warm)\n",
    "        \n",
    "df['Query'] = lst_names\n",
    "df['Cold/Warm'] = lst_cold_warm\n",
    "df['Results'] = lst_res\n",
    "df['Execution'] = lst_exec\n",
    "df['Full Scan'] = lst_scan\n",
    "df['Total Duration (nsecs)'] = lst_dur\n",
    "\n",
    "completeName = os.path.join(save_path, path.split(\"-\",1)[1]+\".txt\")  \n",
    "\n",
    "np.savetxt(completeName, df.values, fmt=\"%-18s\", header=\"A/A\\t\\tQuery\\t\\tCold/Warm\\t\\tShort/Long\\t\\tResults\\t\\tExecution\\tFull Scan\\tTotal Duration (nsecs)\")  "
   ]
  }
 ],
 "metadata": {
  "kernelspec": {
   "display_name": "Python 3",
   "language": "python",
   "name": "python3"
  },
  "language_info": {
   "codemirror_mode": {
    "name": "ipython",
    "version": 3
   },
   "file_extension": ".py",
   "mimetype": "text/x-python",
   "name": "python",
   "nbconvert_exporter": "python",
   "pygments_lexer": "ipython3",
   "version": "3.6.3"
  }
 },
 "nbformat": 4,
 "nbformat_minor": 2
}
